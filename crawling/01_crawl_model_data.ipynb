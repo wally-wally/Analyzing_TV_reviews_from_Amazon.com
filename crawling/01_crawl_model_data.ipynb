{
 "cells": [
  {
   "cell_type": "code",
   "execution_count": null,
   "metadata": {},
   "outputs": [],
   "source": [
    "%set_env http_proxy='###'\n",
    "%set_env https_proxy='###'"
   ]
  },
  {
   "cell_type": "code",
   "execution_count": null,
   "metadata": {},
   "outputs": [],
   "source": [
    "import os\n",
    "proxy = '###'\n",
    "\n",
    "# os.environ['http_proxy'] = proxy \n",
    "# os.environ['HTTP_PROXY'] = proxy\n",
    "# os.environ['https_proxy'] = proxy\n",
    "# os.environ['HTTPS_PROXY'] = proxy\n",
    "\n",
    "\n",
    "from datetime import datetime\n",
    "from elasticsearch import Elasticsearch, RequestsHttpConnection\n",
    "from requests_aws4auth import AWS4Auth'\n",
    "host = '###########'\n",
    "YOUR_ACCESS_KEY = '###########'\n",
    "YOUR_SECRET_KEY = '###########'\n",
    "REGION = 'us-east-1'\n",
    "awsauth = AWS4Auth(YOUR_ACCESS_KEY, YOUR_SECRET_KEY, REGION, 'es')\n",
    "\n",
    "es = Elasticsearch(\n",
    "    hosts=[{'host': host, 'port': '###'}],\n",
    "    http_auth=awsauth,\n",
    "    use_ssl=True,\n",
    "    verify_certs=False,\n",
    "    connection_class=RequestsHttpConnection\n",
    ")\n",
    "print(es.info())\n"
   ]
  },
  {
   "cell_type": "code",
   "execution_count": null,
   "metadata": {},
   "outputs": [],
   "source": [
    "import requests"
   ]
  },
  {
   "cell_type": "code",
   "execution_count": null,
   "metadata": {},
   "outputs": [],
   "source": [
    "from bs4 import BeautifulSoup"
   ]
  },
  {
   "cell_type": "code",
   "execution_count": null,
   "metadata": {},
   "outputs": [],
   "source": [
    "url_1 = 'https://www.amazon.com/TCL-50S425-inch-Smart-Roku/dp/B07JK98NNQ/ref=sr_1_3?keywords=tv&qid=1576055290&sr=8-3'\n",
    "url_2 = 'https://www.amazon.com/LG-Electronics-22LJ4540-22-Inch-Class/dp/B01N5KGXUX/ref=sr_1_19?keywords=tv&qid=1576056644&sr=8-19'\n",
    "url_3 = 'https://www.amazon.com/Samsung-Electronics-UN32M4500A-32-Inch-Smart/dp/B073JP6WK4/ref=sr_1_50?keywords=tv&qid=1576056774&sr=8-50&th=1'\n",
    "url_4 = 'https://www.amazon.com/Samsung-Electronics-UN32J4001-32-Inch-Model/dp/B0755M5VCQ/ref=sr_1_32?keywords=tv&qid=1576056644&sr=8-32'\n",
    "urls = [url_1, url_2, url_3, url_4]"
   ]
  },
  {
   "cell_type": "code",
   "execution_count": null,
   "metadata": {},
   "outputs": [],
   "source": [
    "model_ids = [url.split('/')[-2] for url in urls]\n",
    "print(model_ids)"
   ]
  },
  {
   "cell_type": "code",
   "execution_count": null,
   "metadata": {},
   "outputs": [],
   "source": [
    "model_soups = []\n",
    "for id_value in model_ids:\n",
    "    model_url = f'https://www.amazon.com/dp/{id_value}/'\n",
    "    model_html = requests.get(model_url, verify=False).text\n",
    "    model_soup = BeautifulSoup(model_html, 'html.parser')\n",
    "    model_soups.append(model_soup)\n",
    "# print(model_soup)\n",
    "# model_data = model_soup.find_all('div', attrs={'data-hook': 'review'})"
   ]
  },
  {
   "cell_type": "code",
   "execution_count": null,
   "metadata": {
    "scrolled": true
   },
   "outputs": [],
   "source": [
    "print(model_soups[0].select('#productTitle'))\n",
    "print(model_soups[1].select('#productTitle'))\n",
    "print(model_soups[2].select('#productTitle'))\n",
    "print(model_soups[3].select('#productTitle'))"
   ]
  },
  {
   "cell_type": "code",
   "execution_count": null,
   "metadata": {},
   "outputs": [],
   "source": [
    "model_soups = []"
   ]
  },
  {
   "cell_type": "code",
   "execution_count": null,
   "metadata": {},
   "outputs": [],
   "source": [
    "model_url = f'https://www.amazon.com/dp/{model_ids[0]}/'\n",
    "while True:\n",
    "    response = requests.get(model_url, verify=False)\n",
    "    if response.status_code == 200:\n",
    "        model_soup = BeautifulSoup(response.text, 'html.parser')\n",
    "        model_soups.append(model_soup)\n",
    "        break\n",
    "    print('retry')"
   ]
  },
  {
   "cell_type": "code",
   "execution_count": null,
   "metadata": {},
   "outputs": [],
   "source": [
    "model_url = f'https://www.amazon.com/dp/{model_ids[1]}/'\n",
    "while True:\n",
    "    response = requests.get(model_url, verify=False)\n",
    "    if response.status_code == 200:\n",
    "        model_soup = BeautifulSoup(response.text, 'html.parser')\n",
    "        model_soups.append(model_soup)\n",
    "        break\n",
    "    print('retry')"
   ]
  },
  {
   "cell_type": "code",
   "execution_count": null,
   "metadata": {},
   "outputs": [],
   "source": [
    "model_url = f'https://www.amazon.com/dp/{model_ids[2]}/'\n",
    "while True:\n",
    "    response = requests.get(model_url, verify=False)\n",
    "    if response.status_code == 200:\n",
    "        model_soup = BeautifulSoup(response.text, 'html.parser')\n",
    "        model_soups.append(model_soup)\n",
    "        break\n",
    "    print('retry')"
   ]
  },
  {
   "cell_type": "code",
   "execution_count": null,
   "metadata": {},
   "outputs": [],
   "source": [
    "model_url = f'https://www.amazon.com/dp/{model_ids[3]}/'\n",
    "while True:\n",
    "    response = requests.get(model_url, verify=False)\n",
    "    if response.status_code == 200:\n",
    "        model_soup = BeautifulSoup(response.text, 'html.parser')\n",
    "        model_soups.append(model_soup)\n",
    "        break\n",
    "    print('retry')"
   ]
  },
  {
   "cell_type": "code",
   "execution_count": null,
   "metadata": {},
   "outputs": [],
   "source": [
    "model_price_soups = []"
   ]
  },
  {
   "cell_type": "code",
   "execution_count": null,
   "metadata": {},
   "outputs": [],
   "source": [
    "model_price_url = f'https://www.amazon.com/gp/offer-listing/{model_ids[0]}/?ie=UTF8&condition=new'\n",
    "while True:\n",
    "    response = requests.get(model_price_url, verify=False)\n",
    "    if response.status_code == 200:\n",
    "        model_price_soup = BeautifulSoup(response.text, 'html.parser')\n",
    "        model_price_soups.append(model_price_soup)\n",
    "        break\n",
    "    print('retry')"
   ]
  },
  {
   "cell_type": "code",
   "execution_count": null,
   "metadata": {},
   "outputs": [],
   "source": [
    "model_price_url = f'https://www.amazon.com/gp/offer-listing/{model_ids[1]}/?ie=UTF8&condition=new'\n",
    "while True:\n",
    "    response = requests.get(model_price_url, verify=False)\n",
    "    if response.status_code == 200:\n",
    "        model_price_soup = BeautifulSoup(response.text, 'html.parser')\n",
    "        model_price_soups.append(model_price_soup)\n",
    "        break\n",
    "    print('retry')"
   ]
  },
  {
   "cell_type": "code",
   "execution_count": null,
   "metadata": {},
   "outputs": [],
   "source": [
    "model_price_url = f'https://www.amazon.com/gp/offer-listing/{model_ids[2]}/?ie=UTF8&condition=new'\n",
    "while True:\n",
    "    response = requests.get(model_price_url, verify=False)\n",
    "    if response.status_code == 200:\n",
    "        model_price_soup = BeautifulSoup(response.text, 'html.parser')\n",
    "        model_price_soups.append(model_price_soup)\n",
    "        break\n",
    "    print('retry')"
   ]
  },
  {
   "cell_type": "code",
   "execution_count": null,
   "metadata": {},
   "outputs": [],
   "source": [
    "model_price_url = f'https://www.amazon.com/gp/offer-listing/{model_ids[3]}/?ie=UTF8&condition=new'\n",
    "while True:\n",
    "    response = requests.get(model_price_url, verify=False)\n",
    "    if response.status_code == 200:\n",
    "        model_price_soup = BeautifulSoup(response.text, 'html.parser')\n",
    "        model_price_soups.append(model_price_soup)\n",
    "        break\n",
    "    print('retry')"
   ]
  },
  {
   "cell_type": "code",
   "execution_count": null,
   "metadata": {},
   "outputs": [],
   "source": [
    "product_name= model_soups[0].select('#productTitle')[0].text.strip()\n",
    "print(product_name)"
   ]
  },
  {
   "cell_type": "code",
   "execution_count": null,
   "metadata": {},
   "outputs": [],
   "source": [
    "model_soups[1].select('#acrPopover > span.a-declarative > a > i.a-icon.a-icon-star > .a-icon-alt')[0].text[:3])\n"
   ]
  },
  {
   "cell_type": "code",
   "execution_count": null,
   "metadata": {},
   "outputs": [],
   "source": [
    "information = model_soups[3].select('#productDetails_techSpec_section_1')[0]\n",
    "print(information.find_all('td', attrs={'class': 'a-size-base'})[3].text.strip())"
   ]
  },
  {
   "cell_type": "code",
   "execution_count": null,
   "metadata": {},
   "outputs": [],
   "source": [
    "import json"
   ]
  },
  {
   "cell_type": "code",
   "execution_count": null,
   "metadata": {
    "scrolled": true
   },
   "outputs": [],
   "source": [
    "file_idx = 1\n",
    "for idx in range(4):\n",
    "    modelDict = dict()\n",
    "    model_soup_data, model_price_soup_data = model_soups[idx], model_price_soups[idx]\n",
    "    modelDict['model_id'] = model_ids[idx]\n",
    "    \n",
    "    product_info = model_soup_data.select('#productDetails_techSpec_section_1')[0]\n",
    "    modelDict['model_code'] = product_info.find_all('td', attrs={'class': 'a-size-base'})[4 if idx == 3 else 3].text.strip()\n",
    "        \n",
    "    modelDict['product_name'] = model_soup_data.select('#productTitle')[0].text.strip()\n",
    "    \n",
    "    modelDict['brand'] = model_soup_data.select('#bylineInfo')[0].text\n",
    "    \n",
    "    modelDict['price'] = float(model_price_soup_data.select('#olpOfferList > div > div > div.a-row.a-spacing-mini.olpOffer > div.a-column.a-span2.olpPriceColumn > span')[0].text.strip()[1:])\n",
    "     \n",
    "    modelDict['rating'] = float(model_soup_data.select('#acrPopover > span.a-declarative > a > i.a-icon.a-icon-star > .a-icon-alt')[0].text[:3])\n",
    "    \n",
    "    numbering = '0' * (4 - len(str(file_idx))) + str(file_idx)\n",
    "    print(numbering)\n",
    "    \n",
    "    with open(f'model_json_file/{numbering}_model.json', 'w') as f:\n",
    "        f.write(json.dumps(modelDict, indent=4))\n",
    "    \n",
    "    file_idx += 1"
   ]
  },
  {
   "cell_type": "code",
   "execution_count": null,
   "metadata": {},
   "outputs": [],
   "source": []
  }
 ],
 "metadata": {
  "kernelspec": {
   "display_name": "Python 3",
   "language": "python",
   "name": "python3"
  },
  "language_info": {
   "codemirror_mode": {
    "name": "ipython",
    "version": 3
   },
   "file_extension": ".py",
   "mimetype": "text/x-python",
   "name": "python",
   "nbconvert_exporter": "python",
   "pygments_lexer": "ipython3",
   "version": "3.7.3"
  }
 },
 "nbformat": 4,
 "nbformat_minor": 2
}
