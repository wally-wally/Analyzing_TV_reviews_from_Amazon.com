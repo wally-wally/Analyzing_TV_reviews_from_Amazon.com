{
 "cells": [
  {
   "cell_type": "code",
   "execution_count": null,
   "metadata": {},
   "outputs": [],
   "source": [
    "%set_env http_proxy='###########'\n",
    "%set_env https_proxy='###########'"
   ]
  },
  {
   "cell_type": "code",
   "execution_count": null,
   "metadata": {
    "scrolled": false
   },
   "outputs": [],
   "source": [
    "import os\n",
    "proxy = '###'\n",
    "\n",
    "# os.environ['http_proxy'] = proxy \n",
    "# os.environ['HTTP_PROXY'] = proxy\n",
    "# os.environ['https_proxy'] = proxy\n",
    "# os.environ['HTTPS_PROXY'] = proxy\n",
    "\n",
    "\n",
    "from datetime import datetime\n",
    "from elasticsearch import Elasticsearch, RequestsHttpConnection\n",
    "from requests_aws4auth import AWS4Auth'\n",
    "host = '###########'\n",
    "YOUR_ACCESS_KEY = '###########'\n",
    "YOUR_SECRET_KEY = '###########'\n",
    "REGION = 'us-east-1'\n",
    "awsauth = AWS4Auth(YOUR_ACCESS_KEY, YOUR_SECRET_KEY, REGION, 'es')\n",
    "\n",
    "es = Elasticsearch(\n",
    "    hosts=[{'host': host, 'port': '###'}],\n",
    "    http_auth=awsauth,\n",
    "    use_ssl=True,\n",
    "    verify_certs=False,\n",
    "    connection_class=RequestsHttpConnection\n",
    ")\n",
    "print(es.info())\n"
   ]
  },
  {
   "cell_type": "markdown",
   "metadata": {},
   "source": [
    "# input json data"
   ]
  },
  {
   "cell_type": "code",
   "execution_count": null,
   "metadata": {
    "scrolled": true
   },
   "outputs": [],
   "source": [
    "import json\n",
    "\n",
    "for idx in range(1, 5):\n",
    "    number = '0' * (4 - len(str(idx))) + str(idx)\n",
    "    with open(f'model_json_file/{number}_model.json') as f:\n",
    "        doc = json.load(f)\n",
    "#     print(doc)\n",
    "#     print(doc[\"_id\"])\n",
    "\n",
    "    res = es.index(index=\"models\", doc_type='model_info', id=doc[\"model_id\"], body=doc)\n",
    "#     print(res['result'])\n",
    "\n",
    "    res = es.get(index=\"models\", doc_type='model_info', id=doc[\"model_id\"])\n",
    "#     print(res['_source'])\n",
    "\n",
    "    es.indices.refresh(index=\"models\")"
   ]
  },
  {
   "cell_type": "code",
   "execution_count": null,
   "metadata": {
    "scrolled": true
   },
   "outputs": [],
   "source": [
    "import json\n",
    "\n",
    "for idx in range(1320, 1542):\n",
    "    number = '0' * (4 - len(str(idx))) + str(idx)\n",
    "    with open(f'review_json_file/{number}_review.json') as f:\n",
    "        doc = json.load(f)\n",
    "#     print(doc)\n",
    "#     print(doc[\"_id\"])\n",
    "\n",
    "    res = es.index(index=\"reviews\", doc_type='review_info', id=doc[\"review_id\"], body=doc)\n",
    "#     print(res['result'])\n",
    "\n",
    "    res = es.get(index=\"reviews\", doc_type='review_info', id=doc[\"review_id\"])\n",
    "#     print(res['_source'])\n",
    "\n",
    "    es.indices.refresh(index=\"reviews\")"
   ]
  },
  {
   "cell_type": "code",
   "execution_count": null,
   "metadata": {
    "scrolled": true
   },
   "outputs": [],
   "source": [
    "es_model_data = es.search(index=\"models\", body={\"size\":12, \"query\": {\"match_all\": {}}})\n",
    "es_review_data = es.search(index=\"reviews\", body={\"size\":10000, \"query\": {\"match_all\": {}}})\n",
    "# print(es_data['hits']['total']['value'])"
   ]
  },
  {
   "cell_type": "code",
   "execution_count": null,
   "metadata": {
    "scrolled": true
   },
   "outputs": [],
   "source": [
    "print(len(es_review_data['hits']['hits']))"
   ]
  },
  {
   "cell_type": "code",
   "execution_count": null,
   "metadata": {},
   "outputs": [],
   "source": [
    "model_id_list = []\n",
    "for m_data in es_model_data['hits']['hits']:\n",
    "    model_id_list.append(m_data['_id'])\n",
    "print(model_id_list)"
   ]
  },
  {
   "cell_type": "markdown",
   "metadata": {},
   "source": [
    "# basic setting review dictionary"
   ]
  },
  {
   "cell_type": "code",
   "execution_count": null,
   "metadata": {},
   "outputs": [],
   "source": [
    "from pprint import pprint"
   ]
  },
  {
   "cell_type": "code",
   "execution_count": null,
   "metadata": {},
   "outputs": [],
   "source": [
    "import json\n",
    "\n",
    "dict_data = dict()\n",
    "dates = ['2018-01', '2018-02', '2018-03', '2018-04', '2018-05', '2018-06',\n",
    "         '2018-07', '2018-08', '2018-09', '2018-10', '2018-11', '2018-12',\n",
    "         '2019-01', '2019-02', '2019-03', '2019-04', '2019-05', '2019-06',\n",
    "         '2019-07', '2019-08', '2019-09', '2019-10', '2019-11', '2019-12'\n",
    "        ]\n",
    "for id_val in model_id_list:\n",
    "    temp_dict = dict()\n",
    "    for date in dates:\n",
    "        temp_dict[date] = []\n",
    "        review_dict = dict()\n",
    "        review_dict['review_count'] = float(0)\n",
    "        review_dict['rating_sum'] = float(0)\n",
    "        temp_dict[date].append(review_dict)\n",
    "    dict_data[id_val] = temp_dict\n",
    "    \n",
    "for hits_data in es_review_data['hits']['hits']:\n",
    "    _model_id = hits_data['_source']['model_id']\n",
    "    for key, val in dict_data.items():\n",
    "        if key == _model_id:\n",
    "            for date_val, review_info in val.items():\n",
    "                if date_val == hits_data['_source']['date'][:7]:\n",
    "                    review_info[0]['review_count'] += 1\n",
    "                    review_info[0]['rating_sum'] += hits_data['_source']['rating']\n",
    "                    break"
   ]
  },
  {
   "cell_type": "code",
   "execution_count": null,
   "metadata": {
    "scrolled": true
   },
   "outputs": [],
   "source": [
    "dict_data = dict()\n",
    "dates = ['2018-01', '2018-02', '2018-03', '2018-04', '2018-05', '2018-06',\n",
    "         '2018-07', '2018-08', '2018-09', '2018-10', '2018-11', '2018-12',\n",
    "         '2019-01', '2019-02', '2019-03', '2019-04', '2019-05', '2019-06',\n",
    "         '2019-07', '2019-08', '2019-09', '2019-10', '2019-11', '2019-12'\n",
    "        ]\n",
    "for id_val in model_id_list:\n",
    "    temp_dict = dict()\n",
    "#     temp_dict['model_id'] = id_val\n",
    "    for date in dates:\n",
    "        temp_dict[date] = []\n",
    "        review_dict = dict()\n",
    "        review_dict['review_count'] = float(0)\n",
    "        review_dict['rating_sum'] = float(0)\n",
    "        temp_dict[date].append(review_dict)\n",
    "#     dict_data.append(temp_dict)\n",
    "    dict_data[id_val] = temp_dict\n",
    "pprint(dict_data)\n",
    "print(len(dict_data))"
   ]
  },
  {
   "cell_type": "code",
   "execution_count": null,
   "metadata": {},
   "outputs": [],
   "source": [
    "import json"
   ]
  },
  {
   "cell_type": "code",
   "execution_count": null,
   "metadata": {},
   "outputs": [],
   "source": [
    "for hits_data in es_review_data['hits']['hits']:\n",
    "    _model_id = hits_data['_source']['model_id']\n",
    "    for key, val in dict_data.items():\n",
    "        if key == _model_id:\n",
    "            for date_val, review_info in val.items():\n",
    "                if date_val == hits_data['_source']['date'][:7]:\n",
    "                    review_info[0]['review_count'] += 1\n",
    "                    review_info[0]['rating_sum'] += hits_data['_source']['rating']\n",
    "                    break\n",
    "pprint(dict_data)\n",
    "\n",
    "with open(f'vue_json/vue_json.json', 'w') as f:\n",
    "    f.write(json.dumps(dict_data, indent=4))"
   ]
  },
  {
   "cell_type": "code",
   "execution_count": null,
   "metadata": {
    "scrolled": true
   },
   "outputs": [],
   "source": [
    "dict_data2 = dict()\n",
    "\n",
    "model_IDs = ['B07NC9SPBF', 'B07F26ZQ8L', 'B07JK98NNQ', 'B01A0LGS3Q', 'B07N4MVTXB', 'B01LXHXGZX', 'B01N5KGXUX', 'B073JP6WK4', 'B0755M5VCQ', 'B07M8D8JDK', 'B07NHQ4CXM', 'B07FPQXN46']\n",
    "for id_val in model_IDs:\n",
    "    dict_data2[id_val] = [0, 0]\n",
    "pprint(dict_data2)"
   ]
  },
  {
   "cell_type": "code",
   "execution_count": null,
   "metadata": {
    "scrolled": true
   },
   "outputs": [],
   "source": [
    "# temporary sentiment words\n",
    "pos = ['absolutely', 'accepted', 'acclaimed', 'accomplish', 'accomplishment', 'achievement', 'action', 'active', 'admire', 'adorable', 'adventure', 'affirmative', 'affluent', 'agree', 'agreeable', 'amazing', 'angelic', 'appealing', 'approve', 'aptitude', 'attractive', 'awesome',\n",
    "       'beaming', 'beautiful',' believe', 'beneficial', 'bliss', 'bountiful', 'bounty', 'brave', 'bravo', 'briliant', 'bubbly',\n",
    "       'calm', 'celebrate', 'certain', 'champ', 'champion', 'charming', 'cheery', 'choice', 'classic', 'classical', 'clean', 'commend', 'composed', 'congratulation',' constant', 'cool', 'courageous', 'creative', 'cute',\n",
    "       'dazzling', 'delight', 'delightful', 'distinguished', 'divine',\n",
    "       'earnest', 'easy', 'ecstatic', 'effective', 'effervescent', 'efficient', 'effortless', 'electrifying', 'elegant', 'enchanting', 'encouraging', 'endorsed', 'energetic', 'energized', 'engaging', 'enthusiastic', 'essential', 'esteemed', 'ethical', 'excellent', 'exciting', 'exquisite',\n",
    "       'fabulous', 'fair', 'familiar', 'famous', 'fantastic', 'favorable', 'fetching', 'fine', 'fitting', 'flourishing', 'fortunate', 'free', 'fresh', 'friendly', 'fun', 'funny',\n",
    "       'generous', 'genius', 'genuine', 'giving', 'glamorous', 'glowing', 'good', 'gorgeous', 'graceful',' great', 'green', 'grin', 'growing']\n",
    "\n",
    "dict_data2 = dict()\n",
    "\n",
    "model_IDs = ['B07NC9SPBF', 'B07F26ZQ8L', 'B07JK98NNQ', 'B01A0LGS3Q', 'B07N4MVTXB', 'B01LXHXGZX', 'B01N5KGXUX', 'B073JP6WK4', 'B0755M5VCQ', 'B07M8D8JDK', 'B07NHQ4CXM', 'B07FPQXN46']\n",
    "for id_val in model_IDs:\n",
    "    dict_data2[id_val] = [0, 0]\n",
    "\n",
    "for hits_data in es_review_data['hits']['hits']:\n",
    "    _model_id = hits_data['_source']['model_id']\n",
    "    for key, val in dict_data2.items():\n",
    "        if key == _model_id:\n",
    "            for word in hits_data['_source']['content'].split():\n",
    "                if word in pos:\n",
    "                    dict_data2[key][0] += 1\n",
    "            else:\n",
    "                dict_data2[key][1] += 1\n",
    "pprint(dict_data2)\n",
    "\n",
    "with open(f'vue_json/vue_json2.json', 'w') as f:\n",
    "    f.write(json.dumps(dict_data2, indent=4))"
   ]
  }
 ],
 "metadata": {
  "kernelspec": {
   "display_name": "Python 3",
   "language": "python",
   "name": "python3"
  },
  "language_info": {
   "codemirror_mode": {
    "name": "ipython",
    "version": 3
   },
   "file_extension": ".py",
   "mimetype": "text/x-python",
   "name": "python",
   "nbconvert_exporter": "python",
   "pygments_lexer": "ipython3",
   "version": "3.7.6"
  }
 },
 "nbformat": 4,
 "nbformat_minor": 2
}
