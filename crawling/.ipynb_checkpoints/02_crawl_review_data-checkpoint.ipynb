{
 "cells": [
  {
   "cell_type": "code",
   "execution_count": null,
   "metadata": {},
   "outputs": [],
   "source": [
    "%set_env http_proxy='###'\n",
    "%set_env https_proxy='###'"
   ]
  },
  {
   "cell_type": "code",
   "execution_count": null,
   "metadata": {},
   "outputs": [],
   "source": [
    "import os\n",
    "proxy = '###'\n",
    "\n",
    "# os.environ['http_proxy'] = proxy \n",
    "# os.environ['HTTP_PROXY'] = proxy\n",
    "# os.environ['https_proxy'] = proxy\n",
    "# os.environ['HTTPS_PROXY'] = proxy\n",
    "\n",
    "\n",
    "from datetime import datetime\n",
    "from elasticsearch import Elasticsearch, RequestsHttpConnection\n",
    "from requests_aws4auth import AWS4Auth'\n",
    "host = '###########'\n",
    "YOUR_ACCESS_KEY = '###########'\n",
    "YOUR_SECRET_KEY = '###########'\n",
    "REGION = 'us-east-1'\n",
    "awsauth = AWS4Auth(YOUR_ACCESS_KEY, YOUR_SECRET_KEY, REGION, 'es')\n",
    "\n",
    "es = Elasticsearch(\n",
    "    hosts=[{'host': host, 'port': '###'}],\n",
    "    http_auth=awsauth,\n",
    "    use_ssl=True,\n",
    "    verify_certs=False,\n",
    "    connection_class=RequestsHttpConnection\n",
    ")\n",
    "print(es.info())\n"
   ]
  },
  {
   "cell_type": "code",
   "execution_count": null,
   "metadata": {},
   "outputs": [],
   "source": [
    "import requests\n",
    "from bs4 import BeautifulSoup"
   ]
  },
  {
   "cell_type": "code",
   "execution_count": null,
   "metadata": {},
   "outputs": [],
   "source": [
    "url_1 = 'https://www.amazon.com/TCL-50S425-inch-Smart-Roku/dp/B07JK98NNQ/ref=sr_1_3?keywords=tv&qid=1576055290&sr=8-3'\n",
    "url_2 = 'https://www.amazon.com/LG-Electronics-22LJ4540-22-Inch-Class/dp/B01N5KGXUX/ref=sr_1_19?keywords=tv&qid=1576056644&sr=8-19'\n",
    "url_3 = 'https://www.amazon.com/Samsung-Electronics-UN32M4500A-32-Inch-Smart/dp/B073JP6WK4/ref=sr_1_50?keywords=tv&qid=1576056774&sr=8-50&th=1'\n",
    "url_4 = 'https://www.amazon.com/Samsung-Electronics-UN32J4001-32-Inch-Model/dp/B0755M5VCQ/ref=sr_1_32?keywords=tv&qid=1576056644&sr=8-32'\n",
    "urls = [url_1, url_2, url_3, url_4]\n",
    "\n",
    "model_ids = [url.split('/')[-2] for url in urls]\n",
    "print(model_ids)"
   ]
  },
  {
   "cell_type": "code",
   "execution_count": null,
   "metadata": {},
   "outputs": [],
   "source": [
    "review_counts = []"
   ]
  },
  {
   "cell_type": "code",
   "execution_count": null,
   "metadata": {},
   "outputs": [],
   "source": [
    "for a in range(4):\n",
    "    url = f'https://www.amazon.com/product-reviews/{model_ids[a]}/?ie=UTF8&showViewpoints=1&pageNumber=1'\n",
    "    html = requests.get(url, verify=False).text\n",
    "    soup = BeautifulSoup(html, 'html.parser')\n",
    "    review_count = soup.select('#filter-info-section > span')[0].text.split()[3]\n",
    "    review_counts.append(int(review_count.replace(',', '')))"
   ]
  },
  {
   "cell_type": "code",
   "execution_count": null,
   "metadata": {},
   "outputs": [],
   "source": [
    "print(review_counts)"
   ]
  },
  {
   "cell_type": "code",
   "execution_count": null,
   "metadata": {},
   "outputs": [],
   "source": [
    "ten_divided_cnt = [(count // 10) + 1 for count in review_counts]\n",
    "print(ten_divided_cnt)"
   ]
  },
  {
   "cell_type": "code",
   "execution_count": null,
   "metadata": {
    "scrolled": true
   },
   "outputs": [],
   "source": [
    "# reiew_soup_data : 하나당 10개의 review\n",
    "\n",
    "all_review_data = [[] for b in range(4)]\n",
    "for idx in range(2, 4):\n",
    "    temp_review_data = []\n",
    "    for cnt_idx in range(1, ten_divided_cnt[idx] + 1):\n",
    "        review_url = f'https://www.amazon.com/product-reviews/{model_ids[idx]}/?ie=UTF8&showViewpoints=1&pageNumber={cnt_idx}'\n",
    "        review_html = requests.get(review_url, verify=False).text\n",
    "        review_soup = BeautifulSoup(review_html, 'html.parser')\n",
    "        review_soup_data = review_soup.find_all('div', attrs={'data-hook': 'review'})\n",
    "#         temp_review_data.append(review_soup_data)\n",
    "        for r_data in review_soup_data:\n",
    "            temp_review_data.append(r_data)\n",
    "        print(idx, cnt_idx)\n",
    "    all_review_data[idx] = temp_review_data"
   ]
  },
  {
   "cell_type": "code",
   "execution_count": null,
   "metadata": {
    "scrolled": true
   },
   "outputs": [],
   "source": [
    "# 두번째 모델 review\n",
    "\n",
    "for idx in range(1, 2):\n",
    "    temp_review_data = []\n",
    "    for cnt_idx in range(1, ten_divided_cnt[idx] + 1):\n",
    "        review_url = f'https://www.amazon.com/product-reviews/{model_ids[idx]}/?ie=UTF8&showViewpoints=1&pageNumber={cnt_idx}'\n",
    "        review_html = requests.get(review_url, verify=False).text\n",
    "        review_soup = BeautifulSoup(review_html, 'html.parser')\n",
    "        review_soup_data = review_soup.find_all('div', attrs={'data-hook': 'review'})\n",
    "#         temp_review_data.append(review_soup_data)\n",
    "        for r_data in review_soup_data:\n",
    "            temp_review_data.append(r_data)\n",
    "        print(idx, cnt_idx)\n",
    "    all_review_data[idx] = temp_review_data"
   ]
  },
  {
   "cell_type": "code",
   "execution_count": null,
   "metadata": {},
   "outputs": [],
   "source": [
    "# 첫번째 모델 review\n",
    "\n",
    "for idx in range(0, 1):\n",
    "    temp_review_data = []\n",
    "    for cnt_idx in range(1, (ten_divided_cnt[idx] // 10) + 1):\n",
    "        review_url = f'https://www.amazon.com/product-reviews/{model_ids[idx]}/?ie=UTF8&showViewpoints=1&pageNumber={cnt_idx}'\n",
    "        review_html = requests.get(review_url, verify=False).text\n",
    "        review_soup = BeautifulSoup(review_html, 'html.parser')\n",
    "        review_soup_data = review_soup.find_all('div', attrs={'data-hook': 'review'})\n",
    "#         temp_review_data.append(review_soup_data)\n",
    "        for r_data in review_soup_data:\n",
    "            temp_review_data.append(r_data)\n",
    "        print(idx, cnt_idx)\n",
    "    all_review_data[idx] = temp_review_data"
   ]
  },
  {
   "cell_type": "code",
   "execution_count": null,
   "metadata": {},
   "outputs": [],
   "source": [
    "import json\n",
    "from datetime import datetime"
   ]
  },
  {
   "cell_type": "code",
   "execution_count": null,
   "metadata": {},
   "outputs": [],
   "source": [
    "count_idx = 1320\n",
    "for list_idx in range(0, 1):\n",
    "    for review in all_review_data[list_idx]:\n",
    "        reviewDict = dict()\n",
    "        \n",
    "        reviewID = review.get('id')\n",
    "        reviewDict['review_id'] = reviewID\n",
    "        \n",
    "        reviewTitle = review.select('a.a-size-base.a-link-normal.review-title.a-color-base.review-title-content.a-text-bold')[0].text\n",
    "        reviewDict['title'] = reviewTitle.replace('\\n', '')\n",
    "        \n",
    "        reviewRating = review.select('a:nth-child(1) > i > span')[0].text[0]\n",
    "        reviewDict['rating'] = float(reviewRating)\n",
    "        \n",
    "        reviewDate = review.select('span.a-size-base.a-color-secondary.review-date')[0].text\n",
    "        reviewDict['date'] = str(datetime.strptime(reviewDate, '%B %d, %Y').date())\n",
    "        \n",
    "        reviewDict['content'] = review.select('div.a-row.a-spacing-small.review-data > span > span')[0].text\n",
    "        \n",
    "        reviewDict['model_id'] = model_ids[list_idx]\n",
    "        \n",
    "        numbering = '0' * (4 - len(str(count_idx))) + str(count_idx)\n",
    "        \n",
    "        with open(f'review_json_file/{numbering}_review.json', 'w') as f:\n",
    "            f.write(json.dumps(reviewDict, indent=4))\n",
    "        \n",
    "        count_idx += 1"
   ]
  },
  {
   "cell_type": "code",
   "execution_count": null,
   "metadata": {},
   "outputs": [],
   "source": [
    "# json 파일 생성 순서\n",
    "# 3번째('B073JP6WK4') => 4번째 모델('B0755M5VCQ') => 2번째 모델('B01N5KGXUX') => 1번째 모델('B07JK98NNQ')"
   ]
  }
 ],
 "metadata": {
  "kernelspec": {
   "display_name": "Python 3",
   "language": "python",
   "name": "python3"
  },
  "language_info": {
   "codemirror_mode": {
    "name": "ipython",
    "version": 3
   },
   "file_extension": ".py",
   "mimetype": "text/x-python",
   "name": "python",
   "nbconvert_exporter": "python",
   "pygments_lexer": "ipython3",
   "version": "3.7.6"
  }
 },
 "nbformat": 4,
 "nbformat_minor": 2
}
